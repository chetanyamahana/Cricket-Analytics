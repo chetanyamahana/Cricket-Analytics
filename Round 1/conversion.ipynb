{
 "cells": [
  {
   "cell_type": "code",
   "execution_count": 1,
   "metadata": {},
   "outputs": [],
   "source": [
    "import pandas as pd\n",
    "\n",
    "def convert_xlsx_to_csv(xlsx_file_path, csv_file_path, sheet_name=None):\n",
    "    \"\"\"\n",
    "    Convert an Excel file (.xlsx) to CSV format.\n",
    "\n",
    "    Parameters:\n",
    "    - xlsx_file_path: str, path to the input .xlsx file\n",
    "    - csv_file_path: str, path to the output .csv file\n",
    "    - sheet_name: str or int, optional, name or index of the sheet to be converted.\n",
    "                  If None, the first sheet is used.\n",
    "    \"\"\"\n",
    "    # Read the Excel file\n",
    "    df = pd.read_excel(xlsx_file_path, sheet_name=sheet_name)\n",
    "\n",
    "    # Convert to CSV\n",
    "    df.to_csv(csv_file_path, index=False)\n",
    "\n"
   ]
  },
  {
   "cell_type": "code",
   "execution_count": 3,
   "metadata": {},
   "outputs": [],
   "source": [
    "# Example usage\n",
    "xlsx_path = 'Chetanya-Ans(2).xlsx'  # Path to your .xlsx file\n",
    "csv_path = 'CSV Files/batsman.csv'   # Path to save your .csv file\n",
    "convert_xlsx_to_csv(xlsx_path, csv_path,sheet_name=\"batsman_scorecard\")"
   ]
  },
  {
   "cell_type": "code",
   "execution_count": 4,
   "metadata": {},
   "outputs": [],
   "source": [
    "# Example usage\n",
    "xlsx_path = 'Chetanya-Ans(2).xlsx'  # Path to your .xlsx file\n",
    "csv_path = 'CSV Files/bowler.csv'   # Path to save your .csv file\n",
    "convert_xlsx_to_csv(xlsx_path, csv_path,sheet_name=\"bowler_scorecard\")"
   ]
  },
  {
   "cell_type": "code",
   "execution_count": 5,
   "metadata": {},
   "outputs": [],
   "source": [
    "# Example usage\n",
    "xlsx_path = 'Chetanya-Ans(2).xlsx'  # Path to your .xlsx file\n",
    "csv_path = 'CSV Files/matchstats.csv'   # Path to save your .csv file\n",
    "convert_xlsx_to_csv(xlsx_path, csv_path,sheet_name=\"matchlevel_scorecard\")"
   ]
  },
  {
   "cell_type": "code",
   "execution_count": null,
   "metadata": {},
   "outputs": [],
   "source": []
  }
 ],
 "metadata": {
  "kernelspec": {
   "display_name": "Python 3",
   "language": "python",
   "name": "python3"
  },
  "language_info": {
   "codemirror_mode": {
    "name": "ipython",
    "version": 3
   },
   "file_extension": ".py",
   "mimetype": "text/x-python",
   "name": "python",
   "nbconvert_exporter": "python",
   "pygments_lexer": "ipython3",
   "version": "3.11.7"
  }
 },
 "nbformat": 4,
 "nbformat_minor": 2
}
