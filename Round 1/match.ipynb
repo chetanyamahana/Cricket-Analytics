{
 "cells": [
  {
   "cell_type": "code",
   "execution_count": 1,
   "metadata": {},
   "outputs": [],
   "source": [
    "import numpy as np\n",
    "import pandas as pd"
   ]
  },
  {
   "cell_type": "code",
   "execution_count": 2,
   "metadata": {},
   "outputs": [],
   "source": [
    "matches_df=pd.read_excel('matchlevel_round.xlsx')"
   ]
  },
  {
   "cell_type": "code",
   "execution_count": 3,
   "metadata": {},
   "outputs": [
    {
     "data": {
      "text/html": [
       "<div>\n",
       "<style scoped>\n",
       "    .dataframe tbody tr th:only-of-type {\n",
       "        vertical-align: middle;\n",
       "    }\n",
       "\n",
       "    .dataframe tbody tr th {\n",
       "        vertical-align: top;\n",
       "    }\n",
       "\n",
       "    .dataframe thead th {\n",
       "        text-align: right;\n",
       "    }\n",
       "</style>\n",
       "<table border=\"1\" class=\"dataframe\">\n",
       "  <thead>\n",
       "    <tr style=\"text-align: right;\">\n",
       "      <th></th>\n",
       "      <th>match id</th>\n",
       "      <th>team1</th>\n",
       "      <th>team2</th>\n",
       "      <th>outcome</th>\n",
       "      <th>winner</th>\n",
       "      <th>by</th>\n",
       "      <th>win amount</th>\n",
       "      <th>player of match</th>\n",
       "      <th>toss winner</th>\n",
       "      <th>toss decision</th>\n",
       "      <th>...</th>\n",
       "      <th>inning2_runs</th>\n",
       "      <th>inning2_wickets</th>\n",
       "      <th>inning2_balls</th>\n",
       "      <th>team1_id</th>\n",
       "      <th>team1_roster_names</th>\n",
       "      <th>team1_roster_ids</th>\n",
       "      <th>team2_id</th>\n",
       "      <th>team2_roster_names</th>\n",
       "      <th>team2_roster_ids</th>\n",
       "      <th>ingestion_timestamp</th>\n",
       "    </tr>\n",
       "  </thead>\n",
       "  <tbody>\n",
       "    <tr>\n",
       "      <th>0</th>\n",
       "      <td>8587795</td>\n",
       "      <td>Ae Ss</td>\n",
       "      <td>Me Rs</td>\n",
       "      <td>normal</td>\n",
       "      <td>Me Rs</td>\n",
       "      <td>wickets</td>\n",
       "      <td>6</td>\n",
       "      <td>Md Ni</td>\n",
       "      <td>Ae Ss</td>\n",
       "      <td>bat</td>\n",
       "      <td>...</td>\n",
       "      <td>178</td>\n",
       "      <td>4.0</td>\n",
       "      <td>120</td>\n",
       "      <td>33914.0</td>\n",
       "      <td>MT Rw:PD St:AT Cy:J Wd:RJ Gn:JW Ws:Rd Kn:DR Bs...</td>\n",
       "      <td>5056134.0:4685568.0:2285051.0:5469008.0:577649...</td>\n",
       "      <td>33942.0</td>\n",
       "      <td>MW Hy:AJ Fh:SB Hr:Md Ni:JA Pe:J Fk:BJ Wr:Id Wm...</td>\n",
       "      <td>7534687.0:37351.0:5406540.0:181404.0:6842170.0...</td>\n",
       "      <td>2022-02-18 03:12:45</td>\n",
       "    </tr>\n",
       "    <tr>\n",
       "      <th>1</th>\n",
       "      <td>8587802</td>\n",
       "      <td>Ht Hs</td>\n",
       "      <td>Sy Ss</td>\n",
       "      <td>normal</td>\n",
       "      <td>Ht Hs</td>\n",
       "      <td>runs</td>\n",
       "      <td>7</td>\n",
       "      <td>MS We</td>\n",
       "      <td>Sy Ss</td>\n",
       "      <td>field</td>\n",
       "      <td>...</td>\n",
       "      <td>181</td>\n",
       "      <td>8.0</td>\n",
       "      <td>120</td>\n",
       "      <td>33928.0</td>\n",
       "      <td>MS We:DM St:BR Mt:DJ Mn:WG Js:TH Dd:NT Es:NP W...</td>\n",
       "      <td>1611364.0:2161599.0:4223883.0:1655436.0:628285...</td>\n",
       "      <td>33956.0</td>\n",
       "      <td>JR Pe:JM Ve:DP Hs:MC Hs:JC Sk:DT Cn:CR Be:SA A...</td>\n",
       "      <td>7869987.0:2076192.0:4002340.0:41740.0:3063696....</td>\n",
       "      <td>2022-02-18 03:12:45</td>\n",
       "    </tr>\n",
       "    <tr>\n",
       "      <th>2</th>\n",
       "      <td>8587816</td>\n",
       "      <td>Ph Ss</td>\n",
       "      <td>Sy Ss</td>\n",
       "      <td>normal</td>\n",
       "      <td>Ph Ss</td>\n",
       "      <td>NaN</td>\n",
       "      <td>86</td>\n",
       "      <td>MR Mh</td>\n",
       "      <td>Sy Ss</td>\n",
       "      <td>field</td>\n",
       "      <td>...</td>\n",
       "      <td>97</td>\n",
       "      <td>10.0</td>\n",
       "      <td>100</td>\n",
       "      <td>33935.0</td>\n",
       "      <td>JJ Ry:LS Le:C Mo:JP Is:MR Mh:AJ Tr:AM He:JA Rn...</td>\n",
       "      <td>2089079.0:2827327.0:1626526.0:4635658.0:190716...</td>\n",
       "      <td>33956.0</td>\n",
       "      <td>JR Pe:J Es:JM Ve:DP Hs:JC Sk:DT Cn:CR Be:SJ Oe...</td>\n",
       "      <td>7869987.0:7620283.0:2076192.0:4002340.0:306369...</td>\n",
       "      <td>2022-02-18 03:12:45</td>\n",
       "    </tr>\n",
       "    <tr>\n",
       "      <th>3</th>\n",
       "      <td>8587837</td>\n",
       "      <td>Sy Ss</td>\n",
       "      <td>Be Ht</td>\n",
       "      <td>normal</td>\n",
       "      <td>Be Ht</td>\n",
       "      <td>wickets</td>\n",
       "      <td>4</td>\n",
       "      <td>MT Se</td>\n",
       "      <td>Sy Ss</td>\n",
       "      <td>bat</td>\n",
       "      <td>...</td>\n",
       "      <td>171</td>\n",
       "      <td>6.0</td>\n",
       "      <td>119</td>\n",
       "      <td>33956.0</td>\n",
       "      <td>JR Pe:J Es:JM Ve:DP Hs:JC Sk:DT Cn:CR Be:BJ Ds...</td>\n",
       "      <td>7869987.0:7620283.0:2076192.0:4002340.0:306369...</td>\n",
       "      <td>33921.0</td>\n",
       "      <td>M Bt:JA Bs:JL Dy:SD Ht:JJ Pn:L Gy:JJ By:JD Wh:...</td>\n",
       "      <td>7620269.0:2286437.0:87191.0:5786766.0:3114803....</td>\n",
       "      <td>2022-02-18 03:12:45</td>\n",
       "    </tr>\n",
       "    <tr>\n",
       "      <th>4</th>\n",
       "      <td>8587844</td>\n",
       "      <td>Ae Ss</td>\n",
       "      <td>Me Rs</td>\n",
       "      <td>normal</td>\n",
       "      <td>Ae Ss</td>\n",
       "      <td>runs</td>\n",
       "      <td>60</td>\n",
       "      <td>RJ Gn</td>\n",
       "      <td>Ae Ss</td>\n",
       "      <td>bat</td>\n",
       "      <td>...</td>\n",
       "      <td>111</td>\n",
       "      <td>10.0</td>\n",
       "      <td>116</td>\n",
       "      <td>33914.0</td>\n",
       "      <td>MT Rw:PD St:AT Cy:JW Ws:RJ Gn:J Wd:Rd Kn:DR Bs...</td>\n",
       "      <td>5056134.0:4685568.0:2285051.0:1635773.0:577649...</td>\n",
       "      <td>33942.0</td>\n",
       "      <td>AJ Fh:MW Hy:SB Hr:Md Ni:BJ Wr:Id Wm:J Fk:JA Pe...</td>\n",
       "      <td>37351.0:7534687.0:5406540.0:181404.0:2669316.0...</td>\n",
       "      <td>2022-02-18 03:12:45</td>\n",
       "    </tr>\n",
       "  </tbody>\n",
       "</table>\n",
       "<p>5 rows × 33 columns</p>\n",
       "</div>"
      ],
      "text/plain": [
       "   match id  team1  team2 outcome winner       by  win amount player of match  \\\n",
       "0   8587795  Ae Ss  Me Rs  normal  Me Rs  wickets           6           Md Ni   \n",
       "1   8587802  Ht Hs  Sy Ss  normal  Ht Hs     runs           7           MS We   \n",
       "2   8587816  Ph Ss  Sy Ss  normal  Ph Ss      NaN          86           MR Mh   \n",
       "3   8587837  Sy Ss  Be Ht  normal  Be Ht  wickets           4           MT Se   \n",
       "4   8587844  Ae Ss  Me Rs  normal  Ae Ss     runs          60           RJ Gn   \n",
       "\n",
       "  toss winner toss decision  ... inning2_runs inning2_wickets inning2_balls  \\\n",
       "0       Ae Ss           bat  ...          178             4.0           120   \n",
       "1       Sy Ss         field  ...          181             8.0           120   \n",
       "2       Sy Ss         field  ...           97            10.0           100   \n",
       "3       Sy Ss           bat  ...          171             6.0           119   \n",
       "4       Ae Ss           bat  ...          111            10.0           116   \n",
       "\n",
       "  team1_id                                 team1_roster_names  \\\n",
       "0  33914.0  MT Rw:PD St:AT Cy:J Wd:RJ Gn:JW Ws:Rd Kn:DR Bs...   \n",
       "1  33928.0  MS We:DM St:BR Mt:DJ Mn:WG Js:TH Dd:NT Es:NP W...   \n",
       "2  33935.0  JJ Ry:LS Le:C Mo:JP Is:MR Mh:AJ Tr:AM He:JA Rn...   \n",
       "3  33956.0  JR Pe:J Es:JM Ve:DP Hs:JC Sk:DT Cn:CR Be:BJ Ds...   \n",
       "4  33914.0  MT Rw:PD St:AT Cy:JW Ws:RJ Gn:J Wd:Rd Kn:DR Bs...   \n",
       "\n",
       "                                    team1_roster_ids team2_id  \\\n",
       "0  5056134.0:4685568.0:2285051.0:5469008.0:577649...  33942.0   \n",
       "1  1611364.0:2161599.0:4223883.0:1655436.0:628285...  33956.0   \n",
       "2  2089079.0:2827327.0:1626526.0:4635658.0:190716...  33956.0   \n",
       "3  7869987.0:7620283.0:2076192.0:4002340.0:306369...  33921.0   \n",
       "4  5056134.0:4685568.0:2285051.0:1635773.0:577649...  33942.0   \n",
       "\n",
       "                                  team2_roster_names  \\\n",
       "0  MW Hy:AJ Fh:SB Hr:Md Ni:JA Pe:J Fk:BJ Wr:Id Wm...   \n",
       "1  JR Pe:JM Ve:DP Hs:MC Hs:JC Sk:DT Cn:CR Be:SA A...   \n",
       "2  JR Pe:J Es:JM Ve:DP Hs:JC Sk:DT Cn:CR Be:SJ Oe...   \n",
       "3  M Bt:JA Bs:JL Dy:SD Ht:JJ Pn:L Gy:JJ By:JD Wh:...   \n",
       "4  AJ Fh:MW Hy:SB Hr:Md Ni:BJ Wr:Id Wm:J Fk:JA Pe...   \n",
       "\n",
       "                                    team2_roster_ids ingestion_timestamp  \n",
       "0  7534687.0:37351.0:5406540.0:181404.0:6842170.0... 2022-02-18 03:12:45  \n",
       "1  7869987.0:2076192.0:4002340.0:41740.0:3063696.... 2022-02-18 03:12:45  \n",
       "2  7869987.0:7620283.0:2076192.0:4002340.0:306369... 2022-02-18 03:12:45  \n",
       "3  7620269.0:2286437.0:87191.0:5786766.0:3114803.... 2022-02-18 03:12:45  \n",
       "4  37351.0:7534687.0:5406540.0:181404.0:2669316.0... 2022-02-18 03:12:45  \n",
       "\n",
       "[5 rows x 33 columns]"
      ]
     },
     "execution_count": 3,
     "metadata": {},
     "output_type": "execute_result"
    }
   ],
   "source": [
    "matches_df.head()"
   ]
  },
  {
   "cell_type": "code",
   "execution_count": 4,
   "metadata": {},
   "outputs": [
    {
     "name": "stdout",
     "output_type": "stream",
     "text": [
      "0\n"
     ]
    }
   ],
   "source": [
    "def remove_duplicates(df):\n",
    "    return df.drop_duplicates(keep='last')\n",
    "\n",
    "# Apply the function to each dataframe\n",
    "matches_df = remove_duplicates(matches_df)\n",
    "\n",
    "# Check if duplicates are removed\n",
    "print(matches_df.duplicated().sum())"
   ]
  },
  {
   "cell_type": "code",
   "execution_count": 5,
   "metadata": {},
   "outputs": [],
   "source": [
    "matches_df = matches_df[(matches_df['match id'] >= 8000000) & (matches_df['match id'] <= 10000000)]"
   ]
  },
  {
   "cell_type": "code",
   "execution_count": 6,
   "metadata": {},
   "outputs": [],
   "source": [
    "matches_df = matches_df[(matches_df['win amount'] >= 1) & (matches_df['win amount'] <= 150)]"
   ]
  },
  {
   "cell_type": "code",
   "execution_count": 7,
   "metadata": {},
   "outputs": [],
   "source": [
    "matches_df = matches_df[(matches_df['ground_id'] >= 50) & (matches_df['ground_id'] <= 26000)]"
   ]
  },
  {
   "cell_type": "code",
   "execution_count": 8,
   "metadata": {},
   "outputs": [],
   "source": [
    "matches_df = matches_df[(matches_df['inning1_runs'] >= 0) & (matches_df['inning1_runs'] <= 300)]"
   ]
  },
  {
   "cell_type": "code",
   "execution_count": 9,
   "metadata": {},
   "outputs": [],
   "source": [
    "matches_df = matches_df[(matches_df['inning1_wickets'] >= 0) & (matches_df['inning1_wickets'] <= 10)]"
   ]
  },
  {
   "cell_type": "code",
   "execution_count": 10,
   "metadata": {},
   "outputs": [],
   "source": [
    "matches_df = matches_df[(matches_df['inning1_balls'] >= 10) & (matches_df['inning1_balls'] <= 120)]"
   ]
  },
  {
   "cell_type": "code",
   "execution_count": 11,
   "metadata": {},
   "outputs": [],
   "source": [
    "matches_df = matches_df[(matches_df['inning2_runs'] >= 0) & (matches_df['inning2_runs'] <= 300)]"
   ]
  },
  {
   "cell_type": "code",
   "execution_count": 12,
   "metadata": {},
   "outputs": [],
   "source": [
    "matches_df = matches_df[(matches_df['inning2_wickets'] >= 0) & (matches_df['inning2_wickets'] <= 10)]"
   ]
  },
  {
   "cell_type": "code",
   "execution_count": 13,
   "metadata": {},
   "outputs": [],
   "source": [
    "matches_df = matches_df[(matches_df['inning2_balls'] >= 10) & (matches_df['inning2_balls'] <= 120)]"
   ]
  },
  {
   "cell_type": "code",
   "execution_count": 14,
   "metadata": {},
   "outputs": [
    {
     "data": {
      "text/plain": [
       "match id                 0\n",
       "team1                    0\n",
       "team2                    0\n",
       "outcome                  0\n",
       "winner                   0\n",
       "by                      52\n",
       "win amount               0\n",
       "player of match        453\n",
       "toss winner              0\n",
       "toss decision            0\n",
       "match type               0\n",
       "venue                    0\n",
       "city                   172\n",
       "match_dt                 0\n",
       "lighting                 0\n",
       "series_name              0\n",
       "season                   0\n",
       "ground_id                0\n",
       "umpire1                174\n",
       "umpire2                174\n",
       "inning1_runs             0\n",
       "inning1_wickets          0\n",
       "inning1_balls            0\n",
       "inning2_runs             0\n",
       "inning2_wickets          0\n",
       "inning2_balls            0\n",
       "team1_id                74\n",
       "team1_roster_names       0\n",
       "team1_roster_ids        74\n",
       "team2_id                70\n",
       "team2_roster_names       0\n",
       "team2_roster_ids        70\n",
       "ingestion_timestamp      0\n",
       "dtype: int64"
      ]
     },
     "execution_count": 14,
     "metadata": {},
     "output_type": "execute_result"
    }
   ],
   "source": [
    "matches_df.isnull().sum()"
   ]
  },
  {
   "cell_type": "code",
   "execution_count": 15,
   "metadata": {},
   "outputs": [],
   "source": [
    "def update_by(row):\n",
    "    if pd.isnull(row['by']):\n",
    "        if row['inning2_runs'] > row['inning1_runs']:\n",
    "            return 'wickets'\n",
    "        elif row['inning2_runs'] < row['inning1_runs']:\n",
    "            return 'runs'\n",
    "    return row['by']\n",
    "\n",
    "# Apply the function to each row in the dataframe\n",
    "matches_df['by'] = matches_df.apply(update_by, axis=1)\n"
   ]
  },
  {
   "cell_type": "code",
   "execution_count": 16,
   "metadata": {},
   "outputs": [
    {
     "data": {
      "text/plain": [
       "match id                 0\n",
       "team1                    0\n",
       "team2                    0\n",
       "outcome                  0\n",
       "winner                   0\n",
       "by                       0\n",
       "win amount               0\n",
       "player of match        453\n",
       "toss winner              0\n",
       "toss decision            0\n",
       "match type               0\n",
       "venue                    0\n",
       "city                   172\n",
       "match_dt                 0\n",
       "lighting                 0\n",
       "series_name              0\n",
       "season                   0\n",
       "ground_id                0\n",
       "umpire1                174\n",
       "umpire2                174\n",
       "inning1_runs             0\n",
       "inning1_wickets          0\n",
       "inning1_balls            0\n",
       "inning2_runs             0\n",
       "inning2_wickets          0\n",
       "inning2_balls            0\n",
       "team1_id                74\n",
       "team1_roster_names       0\n",
       "team1_roster_ids        74\n",
       "team2_id                70\n",
       "team2_roster_names       0\n",
       "team2_roster_ids        70\n",
       "ingestion_timestamp      0\n",
       "dtype: int64"
      ]
     },
     "execution_count": 16,
     "metadata": {},
     "output_type": "execute_result"
    }
   ],
   "source": [
    "matches_df.isnull().sum()"
   ]
  },
  {
   "cell_type": "code",
   "execution_count": 17,
   "metadata": {},
   "outputs": [
    {
     "name": "stdout",
     "output_type": "stream",
     "text": [
      "                          Data Type\n",
      "match id                      int64\n",
      "team1                        object\n",
      "team2                        object\n",
      "outcome                      object\n",
      "winner                       object\n",
      "by                           object\n",
      "win amount                    int64\n",
      "player of match              object\n",
      "toss winner                  object\n",
      "toss decision                object\n",
      "match type                   object\n",
      "venue                        object\n",
      "city                         object\n",
      "match_dt                     object\n",
      "lighting                     object\n",
      "series_name                  object\n",
      "season                       object\n",
      "ground_id                     int64\n",
      "umpire1                      object\n",
      "umpire2                      object\n",
      "inning1_runs                  int64\n",
      "inning1_wickets             float64\n",
      "inning1_balls                 int64\n",
      "inning2_runs                  int64\n",
      "inning2_wickets             float64\n",
      "inning2_balls                 int64\n",
      "team1_id                    float64\n",
      "team1_roster_names           object\n",
      "team1_roster_ids             object\n",
      "team2_id                    float64\n",
      "team2_roster_names           object\n",
      "team2_roster_ids             object\n",
      "ingestion_timestamp  datetime64[ns]\n"
     ]
    }
   ],
   "source": [
    "column_names = matches_df.columns\n",
    "\n",
    "# Get the data types of all columns\n",
    "column_dtypes = matches_df.dtypes\n",
    "\n",
    "# Combine column names and data types into a DataFrame\n",
    "column_info = pd.DataFrame({'Data Type': column_dtypes})\n",
    "\n",
    "print(column_info)"
   ]
  },
  {
   "cell_type": "code",
   "execution_count": 23,
   "metadata": {},
   "outputs": [],
   "source": [
    "matches_df['match id'] = matches_df['match id'].astype('int64')\n",
    "matches_df['team1'] = matches_df['team1'].astype('string')\n",
    "matches_df['team2'] = matches_df['team2'].astype('string')\n",
    "matches_df['outcome'] = matches_df['outcome'].astype('string')\n",
    "matches_df['winner'] = matches_df['winner'].astype('string')\n",
    "matches_df['by'] = matches_df['by'].astype('string')\n",
    "\n",
    "matches_df['win amount'] = matches_df['win amount'].astype('int64')\n",
    "\n",
    "matches_df['player of match'] = matches_df['player of match'].astype('string')\n",
    "\n",
    "matches_df['toss winner'] = matches_df['toss winner'].astype('string')\n",
    "matches_df['toss decision'] = matches_df['toss decision'].astype('string')\n",
    "\n",
    "matches_df['venue'] = matches_df['venue'].astype('string')\n",
    "\n",
    "matches_df['city'] = matches_df['city'].astype('string')\n",
    "matches_df['city'] = matches_df['city'].replace('', pd.NA)  # Replace empty strings with NaN\n",
    "\n",
    "matches_df['lighting'] = matches_df['lighting'].astype('string')\n",
    "matches_df['series_name'] = matches_df['series_name'].astype('string')\n",
    "#matches_df['season'] = matches_df['season'].astype('int64')\n",
    "\n",
    "matches_df['ground_id'] = matches_df['ground_id'].astype('int64')\n",
    "\n",
    "matches_df['umpire1'] = matches_df['umpire1'].astype('string')\n",
    "matches_df['umpire2'] = matches_df['umpire2'].astype('string')\n",
    "\n",
    "matches_df['inning1_runs'] = matches_df['inning1_runs'].astype('int64')\n",
    "matches_df['inning1_wickets'] = matches_df['inning1_wickets'].astype('int64')\n",
    "matches_df['inning1_balls'] = matches_df['inning1_balls'].astype('int64')\n",
    "matches_df['inning2_runs'] = matches_df['inning2_runs'].astype('int64')\n",
    "matches_df['inning2_wickets'] = matches_df['inning2_wickets'].astype('int64')\n",
    "matches_df['inning2_balls'] = matches_df['inning2_balls'].astype('int64')"
   ]
  },
  {
   "cell_type": "code",
   "execution_count": 24,
   "metadata": {},
   "outputs": [
    {
     "data": {
      "text/plain": [
       "match id                 0\n",
       "team1                    0\n",
       "team2                    0\n",
       "outcome                  0\n",
       "winner                   0\n",
       "by                       0\n",
       "win amount               0\n",
       "player of match        453\n",
       "toss winner              0\n",
       "toss decision            0\n",
       "match type               0\n",
       "venue                    0\n",
       "city                   172\n",
       "match_dt                 0\n",
       "lighting                 0\n",
       "series_name              0\n",
       "season                   0\n",
       "ground_id                0\n",
       "umpire1                174\n",
       "umpire2                174\n",
       "inning1_runs             0\n",
       "inning1_wickets          0\n",
       "inning1_balls            0\n",
       "inning2_runs             0\n",
       "inning2_wickets          0\n",
       "inning2_balls            0\n",
       "team1_id                74\n",
       "team1_roster_names       0\n",
       "team1_roster_ids        74\n",
       "team2_id                70\n",
       "team2_roster_names       0\n",
       "team2_roster_ids        70\n",
       "ingestion_timestamp      0\n",
       "dtype: int64"
      ]
     },
     "execution_count": 24,
     "metadata": {},
     "output_type": "execute_result"
    }
   ],
   "source": [
    "matches_df.isnull().sum()"
   ]
  },
  {
   "cell_type": "code",
   "execution_count": 26,
   "metadata": {},
   "outputs": [],
   "source": [
    "numerical_cols = matches_df.select_dtypes(include=['int64', 'float64']).columns"
   ]
  },
  {
   "cell_type": "code",
   "execution_count": 27,
   "metadata": {},
   "outputs": [
    {
     "data": {
      "text/plain": [
       "Index(['match id', 'win amount', 'ground_id', 'inning1_runs',\n",
       "       'inning1_wickets', 'inning1_balls', 'inning2_runs', 'inning2_wickets',\n",
       "       'inning2_balls', 'team1_id', 'team2_id'],\n",
       "      dtype='object')"
      ]
     },
     "execution_count": 27,
     "metadata": {},
     "output_type": "execute_result"
    }
   ],
   "source": [
    "numerical_cols"
   ]
  },
  {
   "cell_type": "code",
   "execution_count": 28,
   "metadata": {},
   "outputs": [],
   "source": [
    "# Columns to remove\n",
    "cols_to_remove = ['match id', 'ground_id', 'team1_id', 'team2_id']\n",
    "\n",
    "numerical_cols = list(numerical_cols)\n",
    "\n",
    "# Remove columns from the list\n",
    "for col in cols_to_remove:\n",
    "    if col in numerical_cols:\n",
    "        numerical_cols.remove(col)  "
   ]
  },
  {
   "cell_type": "code",
   "execution_count": 29,
   "metadata": {},
   "outputs": [
    {
     "data": {
      "text/plain": [
       "['win amount',\n",
       " 'inning1_runs',\n",
       " 'inning1_wickets',\n",
       " 'inning1_balls',\n",
       " 'inning2_runs',\n",
       " 'inning2_wickets',\n",
       " 'inning2_balls']"
      ]
     },
     "execution_count": 29,
     "metadata": {},
     "output_type": "execute_result"
    }
   ],
   "source": [
    "numerical_cols"
   ]
  },
  {
   "cell_type": "code",
   "execution_count": 31,
   "metadata": {},
   "outputs": [
    {
     "name": "stdout",
     "output_type": "stream",
     "text": [
      "Outliers in column 'win amount': [ 86  60 111  96  82  64  66  65  80 103  76  73  79 130 112 117  90  89\n",
      " 100  60 131  77 110  61 110  80  89  94  67  82  63 114  75  77  74  63\n",
      "  93  69  69  86  70  85  60 106 120 100  75  78  60  64  70 130  62  66\n",
      "  72  58  90  73  62  82  94  61  81 117  79  73  82 130  92  63  93 102\n",
      "  58  64  57 117  66  65  72  61  65  94  62  69  60 104  89 104  65  79\n",
      "  84  65  88  61  75  67  91  62 102  68  88  90 111 132  65  80  87 109\n",
      "  77 124  62  59 125  63  67  92  59  61 129  71  74  88  58 124  76  59\n",
      "  73  65 124  80 144  78  92  62  67  60  67 119  84  60  81  77  72  57\n",
      " 112  77  65 133  98  90  59 122  88  81  81  62 111  75  88  64  83 128\n",
      " 120  87  70 124  68 106  74  72]\n",
      "Outliers in column 'inning1_runs': [ 52  62  47  63  60  72 273 255  60  44  55  73  59  63  69 261 261  75\n",
      " 254  68 254  40 271 258  74 258 267  64  74  66  48  47]\n",
      "Outliers in column 'inning1_wickets': [0]\n",
      "Outliers in column 'inning1_balls': [ 63  88 106 114 111  61  33  88 105 117 100 103  79  30 111 118 107  32\n",
      " 119 106 116 104  94 101  96 104  94 114  45 118 119 101 101 107 103 103\n",
      "  88 107 101 102 109 104 101 103 103 102 102 101  67 108 104 104 107 103\n",
      " 107 100 103 101  95 100  62 115  99 116 112 112 101 118  61  89 116  94\n",
      " 108 108  98 118 119 114 116 108 114 116 107 109 112 114 119  91 116  75\n",
      " 115  86  87 107 114 110 116 110  49  94  49 117  72  45 108 103 105 109\n",
      " 101 102 104 106 107 103  98 108 105 103 101 106 104 103 103 103 119  75\n",
      " 105  71 110 100 109 112  87 118 113  89 111 114 119 117  49  86 116 115\n",
      "  81 110  91 107  99 112 115  98 102 116  90 115 112 119 118 118  59 119\n",
      " 112 117 107 119 105 101 108 103 104 102 100 103  94 104 103 103 101 103\n",
      " 102 103 105 106 108 119 108 110  98 111 101 110 116 116 114  30  80]\n",
      "Outliers in column 'inning2_runs': [ 55  50 232  31  45  56 233  59  51  15  52  43  50 259  54 244  59  53]\n",
      "Outliers in column 'inning2_wickets': []\n",
      "Outliers in column 'inning2_balls': [61 75 74 78 58 28 63 64 75 74 77 23 75 25 76 76 65 75 74 40 30 55 76 56\n",
      " 25 74 76 68 77 79 68 53 70 47 46 51 65 74 41 40 40 65 37 47 78 52 57 47\n",
      " 52 75 74 61 68 43 79 75 64 64 69 49 67 59 51 70 77 77 36 79 43 48 33 73\n",
      " 56 77 79 58 64 47 59 70 70 51 33 60 77 51 65 73 46 59 77 55 66 58 58 55\n",
      " 22 79 42 58 33 29]\n"
     ]
    }
   ],
   "source": [
    "for col in numerical_cols:\n",
    "    Q1 = matches_df[col].quantile(0.25)\n",
    "    Q3 = matches_df[col].quantile(0.75)\n",
    "    IQR = Q3 - Q1\n",
    "    lower_bound = Q1 - 1.5 * IQR\n",
    "    upper_bound = Q3 + 1.5 * IQR\n",
    "    outliers = matches_df[(matches_df[col] < lower_bound) | (matches_df[col] > upper_bound)][col]\n",
    "    print(f\"Outliers in column '{col}': {outliers.values}\")"
   ]
  },
  {
   "cell_type": "code",
   "execution_count": 33,
   "metadata": {},
   "outputs": [],
   "source": [
    "for col in numerical_cols:\n",
    "    Q1 = matches_df[col].quantile(0.25)\n",
    "    Q3 = matches_df[col].quantile(0.75)\n",
    "    IQR = Q3 - Q1\n",
    "    lower_bound = Q1 - 1.5 * IQR\n",
    "    upper_bound = Q3 + 1.5 * IQR\n",
    "    non_outliers = matches_df[(matches_df[col] >= lower_bound) & (matches_df[col] <= upper_bound)][col]\n",
    "    mean_value = int(np.round(non_outliers.mean()))  # Round off the mean value\n",
    "    matches_df.loc[matches_df[col] < lower_bound, col] = mean_value\n",
    "    matches_df.loc[matches_df[col] > upper_bound, col] = mean_value"
   ]
  },
  {
   "cell_type": "code",
   "execution_count": 34,
   "metadata": {},
   "outputs": [],
   "source": [
    "final_output = 'matches.xlsx'\n",
    "matches_df.to_excel(final_output, index=False)"
   ]
  },
  {
   "cell_type": "code",
   "execution_count": 35,
   "metadata": {},
   "outputs": [
    {
     "name": "stdout",
     "output_type": "stream",
     "text": [
      "Index(['match id', 'team1', 'team2', 'outcome', 'winner', 'by', 'win amount',\n",
      "       'player of match', 'toss winner', 'toss decision', 'match type',\n",
      "       'venue', 'city', 'match_dt', 'lighting', 'series_name', 'season',\n",
      "       'ground_id', 'umpire1', 'umpire2', 'inning1_runs', 'inning1_wickets',\n",
      "       'inning1_balls', 'inning2_runs', 'inning2_wickets', 'inning2_balls',\n",
      "       'team1_id', 'team1_roster_names', 'team1_roster_ids', 'team2_id',\n",
      "       'team2_roster_names', 'team2_roster_ids', 'ingestion_timestamp'],\n",
      "      dtype='object')\n"
     ]
    }
   ],
   "source": [
    "all_columns = matches_df.columns\n",
    "\n",
    "# Print the column names\n",
    "print(all_columns)"
   ]
  },
  {
   "cell_type": "code",
   "execution_count": null,
   "metadata": {},
   "outputs": [],
   "source": []
  }
 ],
 "metadata": {
  "kernelspec": {
   "display_name": "Python 3",
   "language": "python",
   "name": "python3"
  },
  "language_info": {
   "codemirror_mode": {
    "name": "ipython",
    "version": 3
   },
   "file_extension": ".py",
   "mimetype": "text/x-python",
   "name": "python",
   "nbconvert_exporter": "python",
   "pygments_lexer": "ipython3",
   "version": "3.11.7"
  }
 },
 "nbformat": 4,
 "nbformat_minor": 2
}
